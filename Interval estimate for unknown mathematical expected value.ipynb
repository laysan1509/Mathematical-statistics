{
 "cells": [
  {
   "cell_type": "code",
   "execution_count": 1,
   "metadata": {},
   "outputs": [],
   "source": [
    "%matplotlib inline\n",
    "import matplotlib\n",
    "import pandas as pd\n",
    "import numpy as np\n",
    "from scipy import stats  \n",
    "from scipy.stats import iqr\n",
    "import seaborn as sns\n",
    "import math"
   ]
  },
  {
   "cell_type": "code",
   "execution_count": 2,
   "metadata": {},
   "outputs": [
    {
     "name": "stdout",
     "output_type": "stream",
     "text": [
      "size 67 \n",
      "mean\n",
      " 99.93880597014925 \n",
      "dispersion\n",
      " 18.18983738026287 \n",
      "degrees of freedom 66\n"
     ]
    }
   ],
   "source": [
    "data = pd.read_csv(\"/Users/rakip/Desktop/Course_Work_MS/r3z2.csv\")\n",
    "Q = 0.9\n",
    "size = len(data)\n",
    "mean = data['X'].sum()/size \n",
    "\n",
    "dispersion_non = data.var() #несмещённая\n",
    "#print('dispersion_non', dispersion_non)\n",
    "\n",
    "dispersion = sum([(xi - mean) ** 2 for xi in data['X']]) / size  # смещённая\n",
    "df = (size - 1)\n",
    "print(\"size\", size, '\\nmean\\n', mean, '\\ndispersion\\n', dispersion, '\\ndegrees of freedom', df)"
   ]
  },
  {
   "cell_type": "code",
   "execution_count": 3,
   "metadata": {},
   "outputs": [
    {
     "name": "stdout",
     "output_type": "stream",
     "text": [
      "t^(alpfa) 1.2945105679948707\n"
     ]
    }
   ],
   "source": [
    "t_alpfa = stats.t.ppf(Q, df)\n",
    "print('t^(alpfa)', t_alpfa)"
   ]
  },
  {
   "cell_type": "code",
   "execution_count": 8,
   "metadata": {},
   "outputs": [
    {
     "name": "stdout",
     "output_type": "stream",
     "text": [
      "верхняя доверительная граница 100.61839763037138\n"
     ]
    }
   ],
   "source": [
    "# верхняя доверительная граница\n",
    "upper_bound = mean + (math.sqrt(dispersion)/math.sqrt(df))*t_alpfa\n",
    "print(\"верхняя доверительная граница\", upper_bound)"
   ]
  },
  {
   "cell_type": "code",
   "execution_count": 9,
   "metadata": {},
   "outputs": [
    {
     "name": "stdout",
     "output_type": "stream",
     "text": [
      "стандартная ошибка среднего 0.5249796154810675\n",
      "99.93880597014925 +- 0.5249796154810675\n"
     ]
    }
   ],
   "source": [
    "#стандартная ошибка среднего\n",
    "stand_error = math.sqrt(dispersion)/math.sqrt(df)\n",
    "print(\"стандартная ошибка среднего\", stand_error)\n",
    "print(mean, '+-', stand_error)"
   ]
  },
  {
   "cell_type": "code",
   "execution_count": null,
   "metadata": {},
   "outputs": [],
   "source": []
  }
 ],
 "metadata": {
  "kernelspec": {
   "display_name": "Python 3",
   "language": "python",
   "name": "python3"
  },
  "language_info": {
   "codemirror_mode": {
    "name": "ipython",
    "version": 3
   },
   "file_extension": ".py",
   "mimetype": "text/x-python",
   "name": "python",
   "nbconvert_exporter": "python",
   "pygments_lexer": "ipython3",
   "version": "3.7.3"
  }
 },
 "nbformat": 4,
 "nbformat_minor": 2
}
